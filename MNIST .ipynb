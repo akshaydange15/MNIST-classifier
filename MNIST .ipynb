{
 "cells": [
  {
   "cell_type": "markdown",
   "metadata": {},
   "source": [
    "# Classifier Example\n"
   ]
  },
  {
   "cell_type": "markdown",
   "metadata": {},
   "source": [
    "**importing a data file**\n"
   ]
  },
  {
   "cell_type": "code",
   "execution_count": 1,
   "metadata": {},
   "outputs": [],
   "source": [
    "from sklearn.datasets import load_digits\n",
    "mnist = load_digits()"
   ]
  },
  {
   "cell_type": "code",
   "execution_count": 2,
   "metadata": {},
   "outputs": [],
   "source": [
    "x,y = mnist['data'],mnist['target']"
   ]
  },
  {
   "cell_type": "code",
   "execution_count": 3,
   "metadata": {},
   "outputs": [
    {
     "data": {
      "text/plain": [
       "(1797, 64)"
      ]
     },
     "execution_count": 3,
     "metadata": {},
     "output_type": "execute_result"
    }
   ],
   "source": [
    "x.shape"
   ]
  },
  {
   "cell_type": "code",
   "execution_count": 4,
   "metadata": {},
   "outputs": [
    {
     "data": {
      "text/plain": [
       "(1797,)"
      ]
     },
     "execution_count": 4,
     "metadata": {},
     "output_type": "execute_result"
    }
   ],
   "source": [
    "y.shape"
   ]
  },
  {
   "cell_type": "markdown",
   "metadata": {},
   "source": [
    "**ploting a point**"
   ]
  },
  {
   "cell_type": "code",
   "execution_count": 5,
   "metadata": {},
   "outputs": [],
   "source": [
    "import matplotlib \n",
    "import matplotlib.pylab as plt"
   ]
  },
  {
   "cell_type": "code",
   "execution_count": 6,
   "metadata": {},
   "outputs": [],
   "source": [
    "%matplotlib inline"
   ]
  },
  {
   "cell_type": "code",
   "execution_count": 7,
   "metadata": {},
   "outputs": [],
   "source": [
    "# consider on random number\n",
    "some_digit = x[2]\n",
    "some_digit_image = some_digit.reshape(8,8)\n",
    "#due to space concern image data is stack in single row so we have to convert in back to 8x8 array."
   ]
  },
  {
   "cell_type": "code",
   "execution_count": 8,
   "metadata": {},
   "outputs": [
    {
     "data": {
      "text/plain": [
       "<matplotlib.image.AxesImage at 0x1c0cf6e8>"
      ]
     },
     "execution_count": 8,
     "metadata": {},
     "output_type": "execute_result"
    },
    {
     "data": {
      "image/png": "[encoded data removed]",
      "text/plain": [
       "<Figure size 432x288 with 1 Axes>"
      ]
     },
     "metadata": {
      "needs_background": "light"
     },
     "output_type": "display_data"
    }
   ],
   "source": [
    "plt.imshow(some_digit_image, cmap = matplotlib.cm.binary, interpolation = \"nearest\")"
   ]
  },
  {
   "cell_type": "code",
   "execution_count": 9,
   "metadata": {},
   "outputs": [
    {
     "data": {
      "text/plain": [
       "2"
      ]
     },
     "execution_count": 9,
     "metadata": {},
     "output_type": "execute_result"
    }
   ],
   "source": [
    "y[2]"
   ]
  },
  {
   "cell_type": "markdown",
   "metadata": {},
   "source": [
    "**spliting data point in train and test data set**"
   ]
  },
  {
   "cell_type": "markdown",
   "metadata": {},
   "source": [
    "feature"
   ]
  },
  {
   "cell_type": "code",
   "execution_count": 10,
   "metadata": {},
   "outputs": [],
   "source": [
    "x_train, x_test = x[0:1000], x[1000:]#spliting features in test and train data set"
   ]
  },
  {
   "cell_type": "markdown",
   "metadata": {},
   "source": [
    "label"
   ]
  },
  {
   "cell_type": "code",
   "execution_count": 11,
   "metadata": {},
   "outputs": [],
   "source": [
    "y_train, y_test = y[0:1000], y[1000:]#spliting labels in test and train data set"
   ]
  },
  {
   "cell_type": "code",
   "execution_count": 12,
   "metadata": {},
   "outputs": [],
   "source": [
    "#let's shuffle train and test set so all data set type avilable in train and test dataset\n",
    "import numpy as np\n",
    "shuffle_index = np.random.permutation(1000)\n",
    "x_train, y_train = x_train[shuffle_index], y_train[shuffle_index]"
   ]
  },
  {
   "cell_type": "markdown",
   "metadata": {},
   "source": [
    "# creating 2 detector"
   ]
  },
  {
   "cell_type": "markdown",
   "metadata": {},
   "source": [
    "here we are creating an binary classifier; if value is 2 then give True at output if not 2 then give False"
   ]
  },
  {
   "cell_type": "markdown",
   "metadata": {},
   "source": [
    "the process is to convert string into int and then convert into binary form "
   ]
  },
  {
   "cell_type": "code",
   "execution_count": 13,
   "metadata": {},
   "outputs": [],
   "source": [
    "#converting data set from '1','2' to 1,2\n",
    "# so that it will help in classification model\n",
    "y_train = y_train.astype(np.int8)\n",
    "y_test = y_test.astype(np.int8)\n",
    "\n",
    "y_train_2 =(y_train == 2)#if y_train data is 2 then written True otherwise false\n",
    "y_test_2 =(y_test == 2)"
   ]
  },
  {
   "cell_type": "code",
   "execution_count": 14,
   "metadata": {},
   "outputs": [
    {
     "data": {
      "text/plain": [
       "array([False, False, False, False, False, False, False, False, False,\n",
       "       False, False, False, False, False, False, False, False, False,\n",
       "        True, False, False, False, False, False, False, False, False,\n",
       "       False, False,  True, False, False, False, False, False,  True,\n",
       "       False, False, False, False, False, False, False, False, False,\n",
       "       False, False, False, False, False, False, False, False,  True,\n",
       "       False, False, False, False, False, False, False, False, False,\n",
       "       False, False, False, False, False, False, False, False, False,\n",
       "       False,  True, False, False, False, False, False, False, False,\n",
       "       False, False, False, False,  True, False, False, False, False,\n",
       "       False, False, False, False, False, False, False, False, False,\n",
       "       False, False, False, False,  True, False, False,  True, False,\n",
       "       False, False, False, False,  True, False,  True, False, False,\n",
       "       False, False, False, False, False, False, False, False,  True,\n",
       "       False, False, False, False,  True,  True, False, False, False,\n",
       "       False, False, False, False, False, False, False, False, False,\n",
       "       False,  True, False,  True, False, False, False, False, False,\n",
       "       False, False,  True, False, False,  True, False, False, False,\n",
       "       False, False, False, False, False, False, False, False, False,\n",
       "       False, False, False, False, False, False, False, False, False,\n",
       "       False, False, False, False, False, False, False, False, False,\n",
       "       False, False, False, False, False,  True, False, False, False,\n",
       "       False, False, False, False, False, False, False, False, False,\n",
       "        True, False, False, False, False, False, False, False, False,\n",
       "       False, False, False, False, False, False,  True, False, False,\n",
       "       False, False, False, False,  True, False, False, False, False,\n",
       "       False, False, False,  True, False, False, False, False, False,\n",
       "       False, False, False,  True, False, False,  True, False, False,\n",
       "       False, False, False, False, False, False, False, False, False,\n",
       "       False, False, False, False,  True, False, False,  True, False,\n",
       "       False, False, False,  True, False, False, False, False, False,\n",
       "       False, False, False, False, False,  True, False, False, False,\n",
       "        True, False, False, False, False, False, False, False,  True,\n",
       "       False,  True, False,  True,  True, False, False, False,  True,\n",
       "       False, False, False, False, False, False, False, False,  True,\n",
       "       False, False, False,  True, False, False, False, False, False,\n",
       "       False, False, False, False,  True, False, False, False, False,\n",
       "       False, False, False, False, False, False, False, False, False,\n",
       "       False, False, False, False, False, False, False,  True, False,\n",
       "       False, False, False,  True, False, False, False,  True, False,\n",
       "       False, False, False, False, False, False, False, False,  True,\n",
       "       False, False, False, False, False,  True, False, False, False,\n",
       "       False, False, False, False,  True, False, False, False, False,\n",
       "        True, False, False,  True, False,  True, False, False, False,\n",
       "        True, False,  True,  True, False, False, False, False, False,\n",
       "       False, False, False, False, False, False, False, False, False,\n",
       "        True, False, False, False, False, False, False, False, False,\n",
       "       False, False, False,  True, False, False, False, False, False,\n",
       "       False, False, False, False, False, False, False, False,  True,\n",
       "       False, False, False, False, False, False, False, False, False,\n",
       "       False, False, False, False, False,  True, False, False, False,\n",
       "       False,  True, False, False, False, False, False, False, False,\n",
       "       False, False, False,  True, False, False, False, False, False,\n",
       "       False, False,  True, False,  True,  True, False,  True, False,\n",
       "       False,  True, False, False, False,  True,  True, False, False,\n",
       "       False, False,  True, False, False,  True, False, False, False,\n",
       "        True, False, False, False, False, False, False, False, False,\n",
       "       False, False, False, False, False, False, False, False, False,\n",
       "       False, False, False, False, False, False, False,  True, False,\n",
       "        True, False, False, False,  True, False, False, False, False,\n",
       "       False, False, False, False, False, False, False, False, False,\n",
       "       False, False, False, False, False, False, False, False, False,\n",
       "        True, False, False, False, False, False, False, False, False,\n",
       "       False, False, False, False, False, False, False, False, False,\n",
       "       False, False, False, False, False, False, False, False, False,\n",
       "       False, False, False, False, False, False, False, False, False,\n",
       "       False, False, False, False, False, False,  True, False, False,\n",
       "       False,  True,  True, False,  True, False, False, False, False,\n",
       "       False, False, False, False, False, False, False, False, False,\n",
       "       False, False,  True, False, False, False, False, False, False,\n",
       "       False, False, False, False,  True, False, False, False, False,\n",
       "       False, False, False, False, False, False, False, False, False,\n",
       "       False, False, False, False, False, False, False, False, False,\n",
       "       False, False, False, False, False, False, False, False, False,\n",
       "       False, False, False, False, False, False,  True,  True, False,\n",
       "       False, False, False, False, False, False, False,  True, False,\n",
       "       False, False, False, False, False, False, False, False, False,\n",
       "       False, False, False, False, False, False, False, False, False,\n",
       "       False, False, False, False,  True, False, False, False, False,\n",
       "       False, False, False, False, False, False, False, False, False,\n",
       "       False, False, False,  True, False, False, False, False, False,\n",
       "       False, False, False, False, False, False, False, False, False,\n",
       "       False, False, False, False, False, False, False, False, False,\n",
       "       False, False, False, False, False, False, False, False, False,\n",
       "       False, False, False, False, False, False, False, False, False,\n",
       "       False, False, False, False, False, False, False, False, False,\n",
       "       False, False, False, False, False, False, False, False, False,\n",
       "       False, False, False, False, False, False, False, False, False,\n",
       "       False, False, False, False, False, False, False, False, False,\n",
       "       False, False, False, False,  True, False, False, False, False,\n",
       "       False, False, False, False, False,  True, False, False, False,\n",
       "       False, False, False, False, False, False, False, False, False,\n",
       "       False, False, False, False, False, False,  True, False, False,\n",
       "       False, False, False, False, False, False, False, False,  True,\n",
       "       False, False, False, False, False, False, False, False, False,\n",
       "       False, False, False, False, False,  True, False,  True, False,\n",
       "       False, False, False, False, False, False, False, False,  True,\n",
       "       False, False, False, False, False, False, False, False,  True,\n",
       "       False, False, False, False, False, False, False, False, False,\n",
       "       False,  True, False, False, False, False, False, False, False,\n",
       "       False, False,  True, False, False, False, False, False, False,\n",
       "       False, False, False, False, False, False,  True, False, False,\n",
       "       False, False, False,  True, False, False, False, False, False,\n",
       "        True, False, False, False, False, False, False, False,  True,\n",
       "       False, False, False, False, False, False, False, False, False,\n",
       "       False, False, False, False,  True, False, False, False, False,\n",
       "       False, False, False, False, False, False, False, False, False,\n",
       "       False, False, False, False, False, False,  True, False, False,\n",
       "       False, False, False,  True, False, False, False, False, False,\n",
       "       False, False, False, False, False, False, False, False, False,\n",
       "       False, False, False, False,  True,  True, False, False,  True,\n",
       "       False])"
      ]
     },
     "execution_count": 14,
     "metadata": {},
     "output_type": "execute_result"
    }
   ],
   "source": [
    "y_train_2"
   ]
  },
  {
   "cell_type": "markdown",
   "metadata": {},
   "source": [
    "**importing model**"
   ]
  },
  {
   "cell_type": "code",
   "execution_count": 15,
   "metadata": {},
   "outputs": [],
   "source": [
    "from sklearn.linear_model import LogisticRegression"
   ]
  },
  {
   "cell_type": "code",
   "execution_count": 16,
   "metadata": {},
   "outputs": [],
   "source": [
    "clf = LogisticRegression(tol = 0.1, solver = 'lbfgs') #tol is toerance to fast process and solver to remove unwanted error"
   ]
  },
  {
   "cell_type": "markdown",
   "metadata": {},
   "source": [
    "# Training Model\n"
   ]
  },
  {
   "cell_type": "code",
   "execution_count": 17,
   "metadata": {},
   "outputs": [
    {
     "data": {
      "text/plain": [
       "LogisticRegression(tol=0.1)"
      ]
     },
     "execution_count": 17,
     "metadata": {},
     "output_type": "execute_result"
    }
   ],
   "source": [
    "clf.fit(x_train, y_train_2)"
   ]
  },
  {
   "cell_type": "code",
   "execution_count": 18,
   "metadata": {},
   "outputs": [
    {
     "data": {
      "text/plain": [
       "array([ True])"
      ]
     },
     "execution_count": 18,
     "metadata": {},
     "output_type": "execute_result"
    }
   ],
   "source": [
    "clf.predict([some_digit]) #here some digit is 2"
   ]
  },
  {
   "cell_type": "markdown",
   "metadata": {},
   "source": [
    "# cross validation"
   ]
  },
  {
   "cell_type": "code",
   "execution_count": 19,
   "metadata": {},
   "outputs": [],
   "source": [
    "from sklearn.model_selection import cross_val_score\n",
    "a=cross_val_score(clf, x_train, y_train_2, cv=3, scoring='accuracy')  #cross val score provide output in number form between 0 and 1"
   ]
  },
  {
   "cell_type": "code",
   "execution_count": 20,
   "metadata": {},
   "outputs": [
    {
     "data": {
      "text/plain": [
       "0.9980009950069831"
      ]
     },
     "execution_count": 20,
     "metadata": {},
     "output_type": "execute_result"
    }
   ],
   "source": [
    "a.mean()"
   ]
  },
  {
   "cell_type": "code",
   "execution_count": 21,
   "metadata": {},
   "outputs": [],
   "source": [
    "from sklearn.model_selection import cross_val_predict  #cross_val_predict provide output in True/False form\n",
    "y_train_pred = cross_val_predict(clf, x_train, y_train_2, cv=3)"
   ]
  },
  {
   "cell_type": "code",
   "execution_count": 22,
   "metadata": {},
   "outputs": [
    {
     "data": {
      "text/plain": [
       "array([False, False, False, False, False, False, False, False, False,\n",
       "       False, False, False, False, False, False, False, False, False,\n",
       "        True, False, False, False, False, False, False, False, False,\n",
       "       False, False,  True, False, False, False, False, False,  True,\n",
       "       False, False, False, False, False, False, False, False, False,\n",
       "       False, False, False, False, False, False, False, False,  True,\n",
       "       False, False, False, False, False, False, False, False, False,\n",
       "       False, False, False, False, False, False, False, False, False,\n",
       "       False,  True, False, False, False, False, False, False, False,\n",
       "       False, False, False, False,  True, False, False, False, False,\n",
       "       False, False, False, False, False, False, False, False, False,\n",
       "       False, False, False, False,  True, False, False,  True, False,\n",
       "       False, False, False, False,  True, False,  True, False, False,\n",
       "       False, False, False, False, False, False, False, False,  True,\n",
       "       False, False, False, False,  True,  True, False, False, False,\n",
       "       False, False, False, False, False, False, False, False, False,\n",
       "       False,  True, False,  True, False, False, False, False, False,\n",
       "       False, False,  True, False, False,  True, False, False, False,\n",
       "       False, False, False, False, False, False, False, False, False,\n",
       "       False, False, False, False, False, False, False, False, False,\n",
       "       False, False, False, False, False, False, False, False, False,\n",
       "       False, False, False, False, False,  True, False, False, False,\n",
       "       False, False, False, False, False, False, False, False, False,\n",
       "        True, False, False, False, False, False, False, False, False,\n",
       "       False, False, False, False, False, False,  True, False, False,\n",
       "       False, False, False, False,  True,  True, False, False, False,\n",
       "       False, False, False,  True, False, False, False, False, False,\n",
       "       False, False, False,  True, False, False,  True, False, False,\n",
       "       False, False, False, False, False, False, False, False, False,\n",
       "       False, False, False, False,  True, False, False,  True, False,\n",
       "       False, False, False,  True, False, False, False, False, False,\n",
       "       False, False, False, False, False,  True, False, False, False,\n",
       "        True, False, False, False, False, False, False, False,  True,\n",
       "       False,  True, False,  True,  True, False, False, False,  True,\n",
       "       False, False, False, False, False, False, False, False,  True,\n",
       "       False, False, False,  True, False, False, False, False, False,\n",
       "       False, False, False, False,  True, False, False, False, False,\n",
       "       False, False, False, False, False, False, False, False, False,\n",
       "       False, False, False, False, False, False, False,  True, False,\n",
       "       False, False, False,  True, False, False, False,  True, False,\n",
       "       False, False, False, False, False, False, False, False,  True,\n",
       "       False, False, False, False, False,  True, False, False, False,\n",
       "       False, False, False, False,  True, False, False, False, False,\n",
       "        True, False, False,  True, False,  True, False, False, False,\n",
       "        True, False,  True,  True, False, False, False, False, False,\n",
       "       False, False, False, False, False, False, False, False, False,\n",
       "        True, False, False, False, False, False, False, False, False,\n",
       "       False, False, False,  True, False, False, False, False, False,\n",
       "       False, False, False, False, False, False, False, False,  True,\n",
       "       False, False, False, False, False, False, False, False, False,\n",
       "       False, False, False, False, False,  True, False, False, False,\n",
       "       False,  True, False, False, False, False, False, False, False,\n",
       "       False, False, False,  True, False, False, False, False, False,\n",
       "       False, False,  True, False,  True,  True, False,  True, False,\n",
       "       False,  True, False, False, False,  True,  True, False, False,\n",
       "       False, False,  True, False, False,  True, False, False, False,\n",
       "        True, False, False, False, False, False, False, False, False,\n",
       "       False, False, False, False, False, False, False, False, False,\n",
       "       False, False, False, False, False, False, False,  True, False,\n",
       "        True, False, False, False,  True, False, False, False, False,\n",
       "       False, False, False, False, False, False, False, False, False,\n",
       "       False, False, False, False, False, False, False, False, False,\n",
       "        True, False, False, False, False, False, False, False, False,\n",
       "       False, False, False, False, False, False, False, False, False,\n",
       "       False, False, False, False, False, False, False, False, False,\n",
       "       False, False, False, False, False, False, False, False, False,\n",
       "       False, False, False, False, False, False,  True, False, False,\n",
       "       False,  True,  True, False,  True, False, False, False, False,\n",
       "       False, False, False, False, False, False, False, False, False,\n",
       "       False, False,  True, False, False, False, False, False, False,\n",
       "       False, False, False, False,  True, False, False, False, False,\n",
       "       False, False, False, False, False, False, False, False, False,\n",
       "       False, False, False, False, False, False, False, False, False,\n",
       "       False, False, False, False, False, False, False, False, False,\n",
       "       False, False, False, False, False, False,  True,  True, False,\n",
       "       False, False, False, False, False, False, False,  True, False,\n",
       "       False, False, False, False, False, False, False, False, False,\n",
       "       False, False, False, False, False, False, False, False, False,\n",
       "       False, False, False, False,  True, False, False, False, False,\n",
       "       False, False, False, False, False, False, False, False, False,\n",
       "       False, False, False,  True, False, False, False, False, False,\n",
       "       False, False, False, False, False, False, False, False, False,\n",
       "       False, False, False, False, False, False, False, False, False,\n",
       "       False, False, False, False, False, False, False, False, False,\n",
       "       False, False, False, False, False, False, False, False, False,\n",
       "       False, False, False, False, False, False, False, False, False,\n",
       "       False, False, False, False, False, False, False, False, False,\n",
       "       False, False, False, False, False, False, False, False, False,\n",
       "       False, False, False, False, False, False, False, False, False,\n",
       "       False, False, False, False,  True, False, False, False, False,\n",
       "       False, False, False, False, False,  True, False, False, False,\n",
       "       False, False, False, False, False, False, False, False, False,\n",
       "       False, False, False, False, False, False,  True, False, False,\n",
       "       False, False, False, False, False, False, False, False,  True,\n",
       "       False, False, False, False, False, False, False, False, False,\n",
       "       False, False, False, False, False,  True, False,  True, False,\n",
       "       False, False, False, False, False, False, False, False,  True,\n",
       "       False, False, False, False, False, False, False, False,  True,\n",
       "       False, False, False, False, False, False, False, False, False,\n",
       "       False,  True, False, False, False, False, False, False, False,\n",
       "       False, False,  True, False, False, False, False, False, False,\n",
       "       False, False, False, False, False, False,  True, False, False,\n",
       "       False, False, False,  True, False, False, False, False, False,\n",
       "        True, False, False, False, False, False, False, False,  True,\n",
       "       False, False, False, False, False, False, False, False, False,\n",
       "       False, False, False, False,  True, False, False, False, False,\n",
       "       False, False, False, False, False, False, False, False, False,\n",
       "       False, False, False, False, False, False,  True, False, False,\n",
       "       False, False, False,  True, False, False, False, False, False,\n",
       "       False, False, False, False, False, False, False, False, False,\n",
       "       False, False, False, False,  True,  True, False, False, False,\n",
       "       False])"
      ]
     },
     "execution_count": 22,
     "metadata": {},
     "output_type": "execute_result"
    }
   ],
   "source": [
    "y_train_pred"
   ]
  },
  {
   "cell_type": "markdown",
   "metadata": {},
   "source": [
    "# Confusion matrix, recall and precision\n"
   ]
  },
  {
   "cell_type": "markdown",
   "metadata": {},
   "source": [
    "**confusion matrix**"
   ]
  },
  {
   "cell_type": "code",
   "execution_count": 23,
   "metadata": {},
   "outputs": [],
   "source": [
    "from sklearn.metrics import confusion_matrix"
   ]
  },
  {
   "cell_type": "code",
   "execution_count": 24,
   "metadata": {},
   "outputs": [
    {
     "data": {
      "text/plain": [
       "array([[899,   1],\n",
       "       [  1,  99]], dtype=int64)"
      ]
     },
     "execution_count": 24,
     "metadata": {},
     "output_type": "execute_result"
    }
   ],
   "source": [
    "confusion_matrix(y_train_2, y_train_pred)  #actual label and predicted label"
   ]
  },
  {
   "cell_type": "code",
   "execution_count": 25,
   "metadata": {},
   "outputs": [
    {
     "data": {
      "text/plain": [
       "array([[900,   0],\n",
       "       [  0, 100]], dtype=int64)"
      ]
     },
     "execution_count": 25,
     "metadata": {},
     "output_type": "execute_result"
    }
   ],
   "source": [
    "confusion_matrix(y_train_2,y_train_2)   #idel matrix for 100% accuracy"
   ]
  },
  {
   "cell_type": "markdown",
   "metadata": {},
   "source": [
    "**precision and recall**"
   ]
  },
  {
   "cell_type": "code",
   "execution_count": 26,
   "metadata": {},
   "outputs": [],
   "source": [
    "from sklearn.metrics import precision_score, recall_score, f1_score"
   ]
  },
  {
   "cell_type": "code",
   "execution_count": 27,
   "metadata": {},
   "outputs": [
    {
     "data": {
      "text/plain": [
       "0.99"
      ]
     },
     "execution_count": 27,
     "metadata": {},
     "output_type": "execute_result"
    }
   ],
   "source": [
    "precision_score(y_train_2, y_train_pred)   #take precision score "
   ]
  },
  {
   "cell_type": "code",
   "execution_count": 28,
   "metadata": {},
   "outputs": [
    {
     "data": {
      "text/plain": [
       "0.99"
      ]
     },
     "execution_count": 28,
     "metadata": {},
     "output_type": "execute_result"
    }
   ],
   "source": [
    "recall_score(y_train_2, y_train_pred)  #take recall score"
   ]
  },
  {
   "cell_type": "code",
   "execution_count": 29,
   "metadata": {},
   "outputs": [
    {
     "data": {
      "text/plain": [
       "0.99"
      ]
     },
     "execution_count": 29,
     "metadata": {},
     "output_type": "execute_result"
    }
   ],
   "source": [
    "f1_score(y_train_2, y_train_pred) #calculate F1 score"
   ]
  },
  {
   "cell_type": "markdown",
   "metadata": {},
   "source": [
    "**let's Plot the graph**"
   ]
  },
  {
   "cell_type": "code",
   "execution_count": 30,
   "metadata": {},
   "outputs": [],
   "source": [
    "from sklearn.metrics import precision_recall_curve"
   ]
  },
  {
   "cell_type": "code",
   "execution_count": 31,
   "metadata": {},
   "outputs": [],
   "source": [
    "y_score =cross_val_predict(clf, x_train, y_train_2, cv=3, method=\"decision_function\")#to get threshold value i need decison function value"
   ]
  },
  {
   "cell_type": "code",
   "execution_count": 32,
   "metadata": {},
   "outputs": [
    {
     "data": {
      "text/plain": [
       "array([-15.39116768, -13.16704889, -14.15209251,  -6.47553774,\n",
       "       -20.9561658 , -25.15403268, -12.65096089, -17.63601694,\n",
       "       -13.29643797, -20.05908552,  -8.21337607, -16.46218893,\n",
       "       -12.89418773, -18.01773262, -32.56628756, -17.53157032,\n",
       "       -19.05336519, -12.24270953,   2.02583058, -14.61070816,\n",
       "        -9.84113314, -10.66754265, -19.25708399, -16.07188671,\n",
       "        -1.82806404, -11.91506697, -10.21314657, -18.79773746,\n",
       "       -16.46992477,   5.18598755,  -9.78643809,  -4.30734267,\n",
       "        -2.57177151, -15.7825374 , -17.04708   ,   4.95077873,\n",
       "       -26.43657801, -27.26900449, -19.7406164 , -19.40403299,\n",
       "       -12.40753893, -13.73847373, -12.28654939, -10.48078732,\n",
       "       -14.04342158, -14.15700187, -11.66093032,  -7.93832216,\n",
       "       -19.10582557, -11.90657887,  -3.74527082, -21.12912532,\n",
       "       -13.59926615,   2.49520801, -14.92385596, -16.89328273,\n",
       "       -15.1117551 , -19.10812074, -11.08239982, -11.29850586,\n",
       "       -10.84880826,  -5.920665  , -19.07120104, -18.21927175,\n",
       "       -11.21199656, -24.18328873, -12.6512795 , -13.8212289 ,\n",
       "       -18.63548489, -16.87924553, -14.53507733, -15.28249434,\n",
       "        -7.38912834,   2.7538021 , -10.7358468 , -18.77188731,\n",
       "        -9.71724443, -16.17626463, -14.77067194,  -0.31313876,\n",
       "       -19.74335262, -12.98325926, -16.9052603 ,  -9.13414501,\n",
       "       -10.88769767,  13.34532588, -12.34324489, -11.40437119,\n",
       "        -1.71580307,  -9.01943104, -16.50712677,  -6.17733525,\n",
       "       -17.48673418, -17.72742161,  -1.75863017, -13.3008342 ,\n",
       "       -13.45135922, -10.41231657,  -9.84052772, -17.30228865,\n",
       "       -23.22264708,  -1.31255012, -12.52172246,  16.04624558,\n",
       "        -7.49628756, -18.666655  ,   9.07626564,  -8.97625265,\n",
       "        -8.94023067,  -7.48301142,  -8.00647201, -13.84559834,\n",
       "         8.1485969 , -16.7506502 ,   2.108989  , -18.10597576,\n",
       "       -15.61572922, -21.08454569, -15.92250761, -22.58836163,\n",
       "        -6.98576735,  -9.66054483, -13.59828408, -11.69382804,\n",
       "       -20.87600277,   6.17062058, -14.40534794, -12.58562412,\n",
       "       -26.80449624,  -2.42208719,  16.60891404,   7.08903464,\n",
       "        -5.96473068,  -6.28862553, -11.65465401,  -5.81680028,\n",
       "       -16.80969093, -21.64776341, -12.51527822, -16.10483564,\n",
       "       -25.37714095, -16.99637139, -23.5200772 , -20.17356377,\n",
       "       -10.74900316,  12.65983508,  -7.0359375 ,  11.10690699,\n",
       "       -20.29112959, -14.06481544, -10.74376304, -29.93740282,\n",
       "        -1.73766919, -19.75611102, -16.00792387,  10.38908777,\n",
       "       -16.03566282,  -5.17699864,   3.66279837, -15.69681544,\n",
       "       -11.26217122, -27.19394685, -17.92860626, -23.02614556,\n",
       "       -11.3320844 , -12.82104282, -12.3143082 , -14.18502163,\n",
       "       -11.69254805, -13.65077691, -17.88049379, -12.03640141,\n",
       "       -15.08097511, -14.60399819, -10.10926775, -13.92163481,\n",
       "       -15.66173987, -10.61866202, -20.44107718,  -8.10116253,\n",
       "       -12.08054529,  -5.77088654, -10.1409263 , -20.56892227,\n",
       "        -8.08141287, -13.02805669,  -6.04760836, -20.77598871,\n",
       "       -12.39864687, -17.4522197 , -29.78393064,  -9.263735  ,\n",
       "       -18.51750578, -14.69561301,   5.062801  ,  -7.80442683,\n",
       "        -9.98343405, -20.61221461, -17.81871991, -21.33955687,\n",
       "        -1.90542321,  -2.45470459, -13.13304574, -11.33003998,\n",
       "        -3.34396006,  -8.57074448, -11.36090064,   4.44431672,\n",
       "       -20.85052516, -14.90097291, -16.30305906,  -8.88599545,\n",
       "        -8.49945324, -21.16256508, -20.3684154 , -23.38576523,\n",
       "       -12.6739454 , -16.09946473,  -8.65176721, -11.88299079,\n",
       "        -9.87338153, -13.65486596,   6.2198262 , -28.51373598,\n",
       "       -10.8249653 , -19.85129677, -20.93401763,  -9.91491913,\n",
       "       -34.38040494,  14.91802176,   0.88550119, -13.356068  ,\n",
       "       -13.21156493, -18.8275583 , -14.39080998, -17.68017812,\n",
       "       -13.16435822,   6.89010098, -25.19848589, -20.96587008,\n",
       "       -16.30102671, -19.73417911,  -9.0102211 , -11.35963466,\n",
       "       -17.43819196, -10.59079568,  12.33627981, -11.18768898,\n",
       "       -12.4478838 ,   3.9768012 ,  -8.77226787,  -7.88933527,\n",
       "        -7.77528629, -15.15385615,  -8.85987775, -19.30555722,\n",
       "       -19.58054835, -14.2451952 , -32.27528065, -26.18991862,\n",
       "       -18.08565501, -21.20428558, -15.89458181, -11.5261043 ,\n",
       "       -27.66693206,   8.05352144, -17.64638828, -15.70090833,\n",
       "         0.65937628, -20.09803146, -11.16898769, -27.89487715,\n",
       "        -8.56414118,   1.56335542, -31.79353129,  -2.98956286,\n",
       "        -4.98724695, -10.89491338, -16.70477931,  -4.72139659,\n",
       "       -21.43287049, -30.71279629, -24.48627431, -16.20837559,\n",
       "        12.92236056, -11.49586136, -24.48456952, -17.74600178,\n",
       "         5.21420409, -14.75693554, -18.96100268, -11.67430637,\n",
       "       -22.89908897, -18.57431114, -15.84045793, -20.07810298,\n",
       "         6.13521138, -13.40771775,  10.25832555, -24.74222352,\n",
       "        11.02732986,   1.86520213, -23.26721916,  -5.82596388,\n",
       "       -14.95597248,   0.98853006, -14.19332587, -17.71962691,\n",
       "       -20.71158353, -25.83144296, -15.16190999, -24.84185536,\n",
       "       -23.03302748,  -4.56036416,   3.62087702, -20.69106732,\n",
       "       -21.67693577, -22.13925494,   4.64747452, -19.13432602,\n",
       "       -15.13194049, -14.59046427,  -9.72964867, -27.92655395,\n",
       "       -19.1877897 , -14.57823158,  -1.70677884,  -9.24336248,\n",
       "        13.41746464, -24.9984996 , -16.50827641, -12.20661704,\n",
       "       -17.10195066, -29.54497264, -18.27282946, -15.85149609,\n",
       "       -29.53379718, -13.07626531,  -7.75174077, -15.64027725,\n",
       "       -10.19342255, -36.17607136, -16.51525952,  -9.5522086 ,\n",
       "       -18.72400473, -15.3889563 , -30.17495908, -10.73444471,\n",
       "       -13.21148637,   7.90188968, -17.02662343, -18.23136419,\n",
       "       -16.35355783, -13.19799767,   8.11190681, -14.69403305,\n",
       "       -10.84925752, -18.25824985,   3.51725306, -30.91020565,\n",
       "       -19.28517704, -26.78421851, -17.03410939, -11.30757455,\n",
       "       -18.04211296, -22.48547104, -15.31277191,  -7.41257537,\n",
       "        14.83060372, -16.01132928, -27.1485451 , -12.88412061,\n",
       "       -15.94566975, -18.66014039,  12.21263979, -20.89798129,\n",
       "        -8.53363496,  -6.3583686 , -26.4981386 ,  -8.71716109,\n",
       "       -19.02736039,  -6.6869121 ,   5.77014584, -33.84509717,\n",
       "       -12.77296331, -13.40240494, -14.64360135,   5.63425454,\n",
       "       -17.07261169, -14.83733716,  10.09664905, -17.93634268,\n",
       "         8.5422423 , -30.32165033, -23.76670431, -15.2530225 ,\n",
       "         2.88808277, -23.48616032,  11.10314693,  10.39452972,\n",
       "       -11.00502707,  -6.93524776,  -8.84553946, -10.01032984,\n",
       "       -10.6059543 , -20.6543399 ,  -7.08652789, -13.71914679,\n",
       "        -7.97913365, -15.05725141, -18.28719243, -19.09144798,\n",
       "       -17.99135398, -14.38273285,   9.60144594, -18.33324723,\n",
       "       -18.68702268,  -8.47439922, -11.80628099,  -6.86518425,\n",
       "       -21.46754639, -18.23853502, -24.69983276, -11.09117149,\n",
       "       -15.05807033, -34.24629047,  14.48887606,  -7.41848808,\n",
       "       -27.51126112, -25.96926469,  -7.27172356, -12.34229288,\n",
       "        -4.64880709, -16.05887101, -16.83063264, -24.06653374,\n",
       "       -16.27225143, -14.16163838, -22.04968091, -27.21840634,\n",
       "        13.49910104, -13.27676804, -23.37119457, -17.09360442,\n",
       "       -21.58427273, -16.07472298, -15.91601482, -20.19539805,\n",
       "       -11.48404244, -36.78051055, -21.71813647, -23.571893  ,\n",
       "        -9.29328929, -12.76417019, -23.21800837,   6.47187652,\n",
       "       -18.71469772, -16.15224607, -15.4634745 , -11.83538191,\n",
       "         8.00533418, -14.96743617, -27.28644866, -12.08923535,\n",
       "       -22.36279602, -14.33247114, -25.63762792, -27.16793521,\n",
       "       -14.01568592, -25.9902511 , -29.55203488,   9.26207663,\n",
       "       -24.66478785, -36.96529458,  -9.57221133, -22.89674343,\n",
       "       -35.98686464,  -6.86376333, -17.87353199,   3.12360252,\n",
       "       -12.67953122,  14.89298628,   9.97425292,  -9.34805672,\n",
       "         5.88359785,  -9.88225525,  -9.9132388 ,   7.1996622 ,\n",
       "       -32.84478281, -26.79904741, -32.73365151,   8.35104916,\n",
       "        13.24229862, -24.49868065, -11.91775334, -30.74731002,\n",
       "       -24.48879453,   4.19084338, -20.21408265, -21.98566842,\n",
       "         8.46248676, -13.99491019, -26.96800196, -16.59565112,\n",
       "         4.90763689, -14.41822122, -21.68702689, -22.47438524,\n",
       "       -13.64821186, -29.52750823, -39.1549278 , -19.04696719,\n",
       "       -36.53898218,  -7.43093396, -14.20036806, -17.11061355,\n",
       "       -21.47151832,  -7.83427527, -17.676457  ,  -7.63530835,\n",
       "       -28.25695465, -12.97392631, -33.14457856, -22.7741064 ,\n",
       "       -16.71220951, -10.15624364, -16.19252671, -28.53376926,\n",
       "       -14.28853515,   5.8318502 , -22.48879278,   2.12245882,\n",
       "        -9.85018997, -27.04808014, -23.52684575,  10.70375561,\n",
       "       -18.34035018, -14.18132291, -36.89090266,  -8.04893329,\n",
       "       -11.80681964, -37.24210278, -24.86950248,  -7.1843725 ,\n",
       "       -13.08415231, -16.01612411,  -9.18734809, -26.7074558 ,\n",
       "       -18.45739688, -15.45756387, -11.61057232, -13.71730583,\n",
       "        -9.76037287, -29.82766032, -20.59765826, -26.40788133,\n",
       "       -16.03127161, -12.11427985,  10.755782  , -13.61095141,\n",
       "       -13.58815403, -32.83587128, -17.91402095, -28.20919296,\n",
       "       -13.24280747, -11.02850515,  -9.94916178, -11.29001529,\n",
       "       -14.59137145, -34.86921282, -30.50443839, -30.29577302,\n",
       "       -24.76479651, -12.99649067,  -8.95614016, -13.47138527,\n",
       "       -16.62360783, -19.43176783, -19.69330496, -11.39247146,\n",
       "       -15.40350499, -40.19146648, -28.55017504, -22.39950889,\n",
       "        -9.36363328, -10.4836394 , -23.30892789, -16.07327561,\n",
       "       -21.45927349, -29.52680582, -10.60542701, -10.01288923,\n",
       "       -26.07584061, -20.20740236, -22.59776276, -36.98161812,\n",
       "       -10.2954288 , -28.73464909, -15.77964922,  -5.54130196,\n",
       "        10.92449234, -19.15456899, -30.01337523, -19.06412219,\n",
       "        11.52289998,   7.11828718, -28.13608032,  14.39771138,\n",
       "       -14.32248385, -23.22134083, -15.09669582, -16.07486449,\n",
       "       -16.06464977, -11.52279688, -19.6351965 , -33.03492705,\n",
       "        -7.29552338,  -5.81193887, -31.77164668, -13.67065627,\n",
       "       -22.46165295, -10.33516225, -21.40096782,   5.19069038,\n",
       "       -15.19883418, -13.03749646, -25.21945776, -15.50623648,\n",
       "       -25.06560649, -30.85756947, -11.35076467, -12.82286453,\n",
       "       -14.51679443,  -8.86773451,  17.67210305, -26.30742857,\n",
       "       -21.06581961, -16.22469728, -24.74228505, -20.06433955,\n",
       "       -19.31493761, -19.52492052, -19.54093443, -21.31711854,\n",
       "       -39.06679484, -14.65428881, -21.81893503, -10.49395186,\n",
       "       -10.38537523, -29.42613121, -21.91496481, -36.72170535,\n",
       "       -19.39224329, -10.64591354,  -9.83397552, -20.08567471,\n",
       "       -20.4243161 , -21.15739326, -13.02054159, -18.09167497,\n",
       "       -15.18306126,  -2.84355484, -19.52877099, -32.43663157,\n",
       "        -2.93830048, -15.99177827, -17.53679766,  -8.19207583,\n",
       "       -18.06931549, -11.94332338, -27.58910962, -17.05116995,\n",
       "        12.47994179,  10.53448629, -20.75606122, -13.06604312,\n",
       "       -12.58169479, -14.80178623,  -9.89729771, -14.17392203,\n",
       "       -17.55689189, -35.3524674 ,  12.91849095, -23.8871902 ,\n",
       "       -14.8427811 , -30.09194782, -29.65626849, -14.82355889,\n",
       "       -17.82097964, -12.3392372 , -12.70244832, -16.8203791 ,\n",
       "       -26.34825782, -32.76576463, -23.28225198, -33.50933912,\n",
       "       -15.44551533, -22.09490115, -23.09939636, -15.40162921,\n",
       "       -34.23084228, -13.96489648, -13.06881494, -17.27737947,\n",
       "        -5.66695498, -20.22806765,   3.11716078, -21.80086097,\n",
       "       -30.40160477, -14.52480418, -33.20898555, -18.84059278,\n",
       "       -18.90405257, -19.05006181, -12.10283014, -25.21544004,\n",
       "       -12.05542671, -17.3011724 ,  -8.13571922, -11.34901328,\n",
       "       -23.72253307, -21.65827765, -15.22156956,   9.65360219,\n",
       "        -7.71567406, -22.54483265, -36.2598171 , -17.67864954,\n",
       "       -13.80452297, -18.01329804, -16.14753467, -16.4910089 ,\n",
       "       -23.8157064 , -11.73903958, -11.88552505, -13.32154796,\n",
       "       -21.74071417,  -9.72907776, -26.74155276, -31.12680192,\n",
       "       -17.91911321,  -9.35124574, -17.87351247, -31.04135397,\n",
       "       -14.39330783, -26.61554163,  -3.66923036, -15.97916816,\n",
       "       -15.7137168 , -13.15652021,  -7.56050291, -17.95887896,\n",
       "        -7.66273408, -17.4015907 , -18.37636638,  -1.67231883,\n",
       "       -10.19831137, -14.05650499,  -9.14575487, -34.26862266,\n",
       "       -25.15170131, -10.5152158 , -15.32347624, -24.12338248,\n",
       "        -6.6656515 ,  -6.40213719, -13.76584211, -28.54315891,\n",
       "       -32.06253935, -20.38890148, -29.40977918, -13.21642232,\n",
       "        -9.38818594, -18.99968023,  -7.61578243, -15.47783098,\n",
       "       -18.34044984, -18.4532976 , -19.26283827, -10.76817896,\n",
       "       -35.28251087,  -8.46360298,  -6.08942867, -20.78680362,\n",
       "       -14.02645306,  -9.02345241, -22.18089441, -29.23601907,\n",
       "       -24.15823914, -26.62733151, -17.77748964, -15.72184961,\n",
       "       -20.58385719, -27.93584434, -18.58817682, -16.87649068,\n",
       "       -11.57057586, -11.86996396, -14.28550951, -25.22268799,\n",
       "       -11.54390706, -19.04471427, -11.56264005, -18.75415663,\n",
       "       -16.74042496,   2.43038456, -11.71167616,  -9.90649947,\n",
       "       -22.50071174, -17.07077395,  -6.16703779, -13.58435508,\n",
       "       -14.84575787,  -5.54953412,  -9.83035482,   9.01654544,\n",
       "       -14.92196847, -13.54300846, -16.09480459, -17.37884167,\n",
       "       -21.38178819, -19.65824758, -12.40666215, -16.16669135,\n",
       "        -5.98245393, -34.40445311, -19.25346071,  -8.71732164,\n",
       "       -25.85363365, -19.13591569, -25.77560694, -26.21801749,\n",
       "        -8.84640402, -18.64482344,  14.04931576, -22.77616619,\n",
       "       -25.43756568, -20.39085301, -14.64488507, -17.00796565,\n",
       "        -9.39573626, -14.13781775, -12.32029667, -14.09523718,\n",
       "       -23.20379457,  14.58760739, -27.52344806, -15.85198493,\n",
       "        -9.98231083,  -3.99813391, -33.77193716, -35.35632053,\n",
       "       -24.96078838, -32.33360165, -20.41911442, -13.9737099 ,\n",
       "       -13.03857781, -12.63419117, -28.75085446, -22.28011518,\n",
       "         8.01873358, -15.15440113,  10.32809926, -20.02767162,\n",
       "       -27.21894411, -15.64668318, -33.91466659,  -3.82284464,\n",
       "       -12.84599054, -30.16470767, -18.44533046, -16.62556369,\n",
       "        10.20707852, -11.49014954,  -8.55509833, -24.91397427,\n",
       "       -11.24420568, -23.30785192, -23.84408657, -11.2337894 ,\n",
       "        -7.52756779,  13.92394499, -11.85079587, -17.06629926,\n",
       "       -14.73211181, -16.06973423, -17.50544183, -26.21468979,\n",
       "        -6.18205915, -20.42072428, -10.05722926, -18.66480896,\n",
       "        13.47903825, -25.51980086, -17.40710418, -10.6765554 ,\n",
       "       -23.56778484,  -3.68229285, -13.99740763,  -9.33274992,\n",
       "       -14.52927036, -11.84501918,  10.70498555, -15.13289534,\n",
       "       -23.42197082, -14.16653315, -17.04045711, -28.6944134 ,\n",
       "       -32.1862379 ,  -8.650307  , -11.79218104, -17.2296461 ,\n",
       "       -19.09657352, -18.58233973,  -9.18580129,  12.4198601 ,\n",
       "       -11.45045871, -17.46260632, -16.41772447, -14.23335215,\n",
       "       -14.13225532,   9.25256007, -32.31620904, -32.71122404,\n",
       "       -15.54981863, -11.90886536, -18.45465077,   5.35737223,\n",
       "        -8.97903087, -20.46677813, -35.57187677,  -6.15609751,\n",
       "       -23.13835269, -24.66146423, -17.18929664,  13.68688116,\n",
       "       -14.37592601, -32.18233887, -10.49454734, -31.25374189,\n",
       "       -19.88650029, -15.36757204, -16.69950294,  -8.16263438,\n",
       "        -9.07321212, -14.01014727, -20.25830722, -19.75488663,\n",
       "       -22.3363413 ,   8.96470435, -19.61128983, -27.32938388,\n",
       "        -9.90411725, -29.39120667, -26.06492908, -14.36247118,\n",
       "       -20.50525557, -22.93126557, -19.17787127, -19.0750077 ,\n",
       "       -15.58732547, -16.89853332, -11.77598082, -12.34006427,\n",
       "       -19.14960231, -15.82797376,  -5.57951765, -15.06391286,\n",
       "       -14.95469223,   8.52738483, -10.25752052,  -9.20979566,\n",
       "       -19.73564016, -17.17858919, -11.55127273,  11.10133549,\n",
       "       -27.12235423, -33.74609784, -12.78441527,  -9.87323095,\n",
       "       -24.7168122 ,  -7.38803359, -16.49918339,  -6.9669687 ,\n",
       "       -11.16477892, -12.07882768, -18.41044714, -30.99673392,\n",
       "       -34.0845252 , -18.23667382, -19.4155703 ,  -3.50959394,\n",
       "       -12.32393886, -16.82166261,  10.72702348,   8.34753715,\n",
       "        -2.12142277,  -6.03978626,  -4.64559721,  -9.9945883 ])"
      ]
     },
     "execution_count": 32,
     "metadata": {},
     "output_type": "execute_result"
    }
   ],
   "source": [
    "y_score #here we get values"
   ]
  },
  {
   "cell_type": "code",
   "execution_count": 33,
   "metadata": {},
   "outputs": [],
   "source": [
    "precision, recall, threshold = precision_recall_curve(y_train_2, y_score)"
   ]
  },
  {
   "cell_type": "code",
   "execution_count": 34,
   "metadata": {},
   "outputs": [
    {
     "data": {
      "text/plain": [
       "array([0.79365079, 0.792     , 0.7983871 , 0.80487805, 0.81147541,\n",
       "       0.81818182, 0.825     , 0.83193277, 0.83898305, 0.84615385,\n",
       "       0.85344828, 0.86086957, 0.86842105, 0.87610619, 0.88392857,\n",
       "       0.89189189, 0.9       , 0.90825688, 0.91666667, 0.92523364,\n",
       "       0.93396226, 0.94285714, 0.95192308, 0.96116505, 0.97058824,\n",
       "       0.98019802, 0.99      , 0.98989899, 1.        , 1.        ,\n",
       "       1.        , 1.        , 1.        , 1.        , 1.        ,\n",
       "       1.        , 1.        , 1.        , 1.        , 1.        ,\n",
       "       1.        , 1.        , 1.        , 1.        , 1.        ,\n",
       "       1.        , 1.        , 1.        , 1.        , 1.        ,\n",
       "       1.        , 1.        , 1.        , 1.        , 1.        ,\n",
       "       1.        , 1.        , 1.        , 1.        , 1.        ,\n",
       "       1.        , 1.        , 1.        , 1.        , 1.        ,\n",
       "       1.        , 1.        , 1.        , 1.        , 1.        ,\n",
       "       1.        , 1.        , 1.        , 1.        , 1.        ,\n",
       "       1.        , 1.        , 1.        , 1.        , 1.        ,\n",
       "       1.        , 1.        , 1.        , 1.        , 1.        ,\n",
       "       1.        , 1.        , 1.        , 1.        , 1.        ,\n",
       "       1.        , 1.        , 1.        , 1.        , 1.        ,\n",
       "       1.        , 1.        , 1.        , 1.        , 1.        ,\n",
       "       1.        , 1.        , 1.        , 1.        , 1.        ,\n",
       "       1.        , 1.        , 1.        , 1.        , 1.        ,\n",
       "       1.        , 1.        , 1.        , 1.        , 1.        ,\n",
       "       1.        , 1.        , 1.        , 1.        , 1.        ,\n",
       "       1.        , 1.        , 1.        , 1.        , 1.        ,\n",
       "       1.        , 1.        ])"
      ]
     },
     "execution_count": 34,
     "metadata": {},
     "output_type": "execute_result"
    }
   ],
   "source": [
    "precision"
   ]
  },
  {
   "cell_type": "code",
   "execution_count": 35,
   "metadata": {},
   "outputs": [
    {
     "data": {
      "text/plain": [
       "array([1.  , 0.99, 0.99, 0.99, 0.99, 0.99, 0.99, 0.99, 0.99, 0.99, 0.99,\n",
       "       0.99, 0.99, 0.99, 0.99, 0.99, 0.99, 0.99, 0.99, 0.99, 0.99, 0.99,\n",
       "       0.99, 0.99, 0.99, 0.99, 0.99, 0.98, 0.98, 0.97, 0.96, 0.95, 0.94,\n",
       "       0.93, 0.92, 0.91, 0.9 , 0.89, 0.88, 0.87, 0.86, 0.85, 0.84, 0.83,\n",
       "       0.82, 0.81, 0.8 , 0.79, 0.78, 0.77, 0.76, 0.75, 0.74, 0.73, 0.72,\n",
       "       0.71, 0.7 , 0.69, 0.68, 0.67, 0.66, 0.65, 0.64, 0.63, 0.62, 0.61,\n",
       "       0.6 , 0.59, 0.58, 0.57, 0.56, 0.55, 0.54, 0.53, 0.52, 0.51, 0.5 ,\n",
       "       0.49, 0.48, 0.47, 0.46, 0.45, 0.44, 0.43, 0.42, 0.41, 0.4 , 0.39,\n",
       "       0.38, 0.37, 0.36, 0.35, 0.34, 0.33, 0.32, 0.31, 0.3 , 0.29, 0.28,\n",
       "       0.27, 0.26, 0.25, 0.24, 0.23, 0.22, 0.21, 0.2 , 0.19, 0.18, 0.17,\n",
       "       0.16, 0.15, 0.14, 0.13, 0.12, 0.11, 0.1 , 0.09, 0.08, 0.07, 0.06,\n",
       "       0.05, 0.04, 0.03, 0.02, 0.01, 0.  ])"
      ]
     },
     "execution_count": 35,
     "metadata": {},
     "output_type": "execute_result"
    }
   ],
   "source": [
    "recall"
   ]
  },
  {
   "cell_type": "code",
   "execution_count": 36,
   "metadata": {},
   "outputs": [
    {
     "data": {
      "text/plain": [
       "array([-4.64559721, -4.56036416, -4.30734267, -3.99813391, -3.82284464,\n",
       "       -3.74527082, -3.68229285, -3.66923036, -3.50959394, -3.34396006,\n",
       "       -2.98956286, -2.93830048, -2.84355484, -2.57177151, -2.45470459,\n",
       "       -2.42208719, -2.12142277, -1.90542321, -1.82806404, -1.75863017,\n",
       "       -1.73766919, -1.71580307, -1.70677884, -1.67231883, -1.31255012,\n",
       "       -0.31313876,  0.65937628,  0.88550119,  0.98853006,  1.56335542,\n",
       "        1.86520213,  2.02583058,  2.108989  ,  2.12245882,  2.43038456,\n",
       "        2.49520801,  2.7538021 ,  2.88808277,  3.11716078,  3.12360252,\n",
       "        3.51725306,  3.62087702,  3.66279837,  3.9768012 ,  4.19084338,\n",
       "        4.44431672,  4.64747452,  4.90763689,  4.95077873,  5.062801  ,\n",
       "        5.18598755,  5.19069038,  5.21420409,  5.35737223,  5.63425454,\n",
       "        5.77014584,  5.8318502 ,  5.88359785,  6.13521138,  6.17062058,\n",
       "        6.2198262 ,  6.47187652,  6.89010098,  7.08903464,  7.11828718,\n",
       "        7.1996622 ,  7.90188968,  8.00533418,  8.01873358,  8.05352144,\n",
       "        8.11190681,  8.1485969 ,  8.34753715,  8.35104916,  8.46248676,\n",
       "        8.52738483,  8.5422423 ,  8.96470435,  9.01654544,  9.07626564,\n",
       "        9.25256007,  9.26207663,  9.60144594,  9.65360219,  9.97425292,\n",
       "       10.09664905, 10.20707852, 10.25832555, 10.32809926, 10.38908777,\n",
       "       10.39452972, 10.53448629, 10.70375561, 10.70498555, 10.72702348,\n",
       "       10.755782  , 10.92449234, 11.02732986, 11.10133549, 11.10314693,\n",
       "       11.10690699, 11.52289998, 12.21263979, 12.33627981, 12.4198601 ,\n",
       "       12.47994179, 12.65983508, 12.91849095, 12.92236056, 13.24229862,\n",
       "       13.34532588, 13.41746464, 13.47903825, 13.49910104, 13.68688116,\n",
       "       13.92394499, 14.04931576, 14.39771138, 14.48887606, 14.58760739,\n",
       "       14.83060372, 14.89298628, 14.91802176, 16.04624558, 16.60891404,\n",
       "       17.67210305])"
      ]
     },
     "execution_count": 36,
     "metadata": {},
     "output_type": "execute_result"
    }
   ],
   "source": [
    "threshold"
   ]
  },
  {
   "cell_type": "code",
   "execution_count": 37,
   "metadata": {},
   "outputs": [
    {
     "data": {
      "image/png": "[encoded data removed]",
      "text/plain": [
       "<Figure size 432x288 with 1 Axes>"
      ]
     },
     "metadata": {
      "needs_background": "light"
     },
     "output_type": "display_data"
    }
   ],
   "source": [
    "plt.plot(threshold,precision[:-1], \"b--\", label =\"precision\")\n",
    "plt.plot(threshold, recall[:-1], \"g-\", label= \"Recall\")\n",
    "\n",
    "plt.xlabel(\"thresholds\")\n",
    "plt.legend(loc=\"upper left\")\n",
    "plt.ylim([0,1])\n",
    "plt.show()"
   ]
  },
  {
   "cell_type": "code",
   "execution_count": null,
   "metadata": {},
   "outputs": [],
   "source": []
  }
 ],
 "metadata": {
  "kernelspec": {
   "display_name": "Python 3",
   "language": "python",
   "name": "python3"
  },
  "language_info": {
   "codemirror_mode": {
    "name": "ipython",
    "version": 3
   },
   "file_extension": ".py",
   "mimetype": "text/x-python",
   "name": "python",
   "nbconvert_exporter": "python",
   "pygments_lexer": "ipython3",
   "version": "3.8.5"
  }
 },
 "nbformat": 4,
 "nbformat_minor": 4
}
